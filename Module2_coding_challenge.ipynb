{
 "cells": [
  {
   "cell_type": "markdown",
   "id": "153de6c7",
   "metadata": {},
   "source": [
    "## Coding Challenge\n"
   ]
  },
  {
   "cell_type": "markdown",
   "id": "bf07102e",
   "metadata": {},
   "source": [
    "### this is a short description"
   ]
  },
  {
   "cell_type": "markdown",
   "id": "6bb80d19",
   "metadata": {},
   "source": [
    "this is random average generator that will accept 1 int input and randomized sa iteration and populate the list then return average of the list"
   ]
  },
  {
   "cell_type": "code",
   "execution_count": null,
   "id": "fdca62cd",
   "metadata": {},
   "outputs": [],
   "source": [
    "manual average generator accept number of inputs as list "
   ]
  },
  {
   "cell_type": "code",
   "execution_count": 18,
   "id": "e842c269",
   "metadata": {},
   "outputs": [
    {
     "data": {
      "text/plain": [
       "'list:[36, 102, 4, 131, 118, 43, 129, 158, 16, 96, 139, 136, 141, 16, 40, 161, 157, 56, 83, 142, 162, 86, 62, 78, 178, 168, 54, 7, 142, 117, 45, 12, 102, 174, 171, 46, 145, 162, 174, 115, 65, 55, 138, 71, 108, 143, 110, 69, 2, 70, 90, 26, 155, 72, 178, 118, 151, 114, 14, 149, 86, 107, 70, 76, 80, 157, 17, 125, 52, 108, 104, 126, 33, 88, 14, 41, 99, 102, 94, 64, 10, 81, 127, 49, 38, 132, 138, 27, 96, 23, 45, 126, 72, 63, 57, 29, 145, 178, 26, 72, 167, 132, 98, 159, 21, 137, 110, 114, 72, 69, 14, 103, 46, 146, 135, 42, 21, 130, 109, 9, 40, 11, 28, 106, 61, 155, 105, 135, 103, 114, 87, 156, 48, 117, 140, 39, 28, 169, 123, 88, 8, 177, 60, 146, 14, 134, 136, 175, 26, 64, 4, 49, 32, 126, 34, 154, 9, 2, 57, 9, 35, 148, 163, 24, 96, 50, 17, 35, 116, 154, 165, 54, 122, 19, 151, 6, 141, 69, 140, 151, 75, 135, 69]\\n ave:89.7103825136612'"
      ]
     },
     "execution_count": 18,
     "metadata": {},
     "output_type": "execute_result"
    }
   ],
   "source": [
    "from random import randint\n",
    "def rand_ave_gen(num_weeks):\n",
    "    online_buy = []\n",
    "    num_weeks += randint(1,num_weeks)\n",
    "    for n in range(num_weeks):\n",
    "        rando = randint(0,int(num_weeks))\n",
    "        online_buy.append(rando)\n",
    "    \n",
    "    ave = sum(online_buy)/ len(online_buy)\n",
    "    return f\"list:{online_buy}\\n ave:{ave}\"\n",
    "\n",
    "\n",
    "    \n",
    "rand_ave_gen(100)"
   ]
  },
  {
   "cell_type": "code",
   "execution_count": null,
   "id": "e95b93d3",
   "metadata": {},
   "outputs": [],
   "source": []
  }
 ],
 "metadata": {
  "kernelspec": {
   "display_name": "Python 3 (ipykernel)",
   "language": "python",
   "name": "python3"
  },
  "language_info": {
   "codemirror_mode": {
    "name": "ipython",
    "version": 3
   },
   "file_extension": ".py",
   "mimetype": "text/x-python",
   "name": "python",
   "nbconvert_exporter": "python",
   "pygments_lexer": "ipython3",
   "version": "3.9.12"
  }
 },
 "nbformat": 4,
 "nbformat_minor": 5
}
