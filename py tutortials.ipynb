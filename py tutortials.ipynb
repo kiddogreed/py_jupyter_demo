{
 "cells": [
  {
   "cell_type": "markdown",
   "id": "0f6c988d",
   "metadata": {},
   "source": [
    "# Python Review"
   ]
  },
  {
   "cell_type": "markdown",
   "id": "68f72e26",
   "metadata": {},
   "source": [
    "#### REVIEW"
   ]
  },
  {
   "cell_type": "markdown",
   "id": "f9dd6c4f",
   "metadata": {},
   "source": [
    " a --function-- block of code than costomizable\n",
    " you can pass input or data  --parameters--"
   ]
  },
  {
   "cell_type": "code",
   "execution_count": 3,
   "id": "fb5bd154",
   "metadata": {},
   "outputs": [
    {
     "name": "stdout",
     "output_type": "stream",
     "text": [
      "the mean of the list 81.8\n"
     ]
    }
   ],
   "source": [
    "def get_mean(ave):\n",
    "    print(f\"the mean of the list {ave}\")\n",
    "\n",
    "n_num = [78, 80, 79, 87, 85]    \n",
    "n = len(n_num)\n",
    "\n",
    "get_sum = sum(n_num)\n",
    "mean = get_sum / n\n",
    "m = str(mean)\n",
    "\n",
    "get_mean(m)"
   ]
  },
  {
   "cell_type": "code",
   "execution_count": 5,
   "id": "418d6cd6",
   "metadata": {},
   "outputs": [
    {
     "name": "stdout",
     "output_type": "stream",
     "text": [
      "array('i', [5, 4, 3, 5, 8])\n"
     ]
    }
   ],
   "source": [
    "import array as arr\n",
    "\n",
    "friends_usage = [5,4,3,5,8,2,5,2,5,8,10,8,7,9,10,5,7,5,7,5,4,3,5,8,4]\n",
    "sample_data = arr.array('i',friends_usage)\n",
    "print(sample_data[0:5])\n"
   ]
  },
  {
   "cell_type": "code",
   "execution_count": 6,
   "id": "da0fb9ce",
   "metadata": {},
   "outputs": [
    {
     "name": "stdout",
     "output_type": "stream",
     "text": [
      "[5, 4, 3, 5, 8]\n"
     ]
    }
   ],
   "source": [
    "from array import *\n",
    "sample_data_array = array('i',[5,4,3,5,8])\n",
    "sample_data_list = sample_data_array.tolist()\n",
    "print(sample_data_list)"
   ]
  },
  {
   "cell_type": "code",
   "execution_count": null,
   "id": "9ce3d5e4",
   "metadata": {},
   "outputs": [],
   "source": []
  }
 ],
 "metadata": {
  "kernelspec": {
   "display_name": "Python 3 (ipykernel)",
   "language": "python",
   "name": "python3"
  },
  "language_info": {
   "codemirror_mode": {
    "name": "ipython",
    "version": 3
   },
   "file_extension": ".py",
   "mimetype": "text/x-python",
   "name": "python",
   "nbconvert_exporter": "python",
   "pygments_lexer": "ipython3",
   "version": "3.9.12"
  }
 },
 "nbformat": 4,
 "nbformat_minor": 5
}
